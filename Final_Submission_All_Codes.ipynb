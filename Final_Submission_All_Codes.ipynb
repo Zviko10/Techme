{
  "nbformat": 4,
  "nbformat_minor": 0,
  "metadata": {
    "colab": {
      "provenance": [],
      "authorship_tag": "ABX9TyNa/ntOkCVP5Ut41RFg+EQN",
      "include_colab_link": true
    },
    "kernelspec": {
      "name": "python3",
      "display_name": "Python 3"
    },
    "language_info": {
      "name": "python"
    }
  },
  "cells": [
    {
      "cell_type": "markdown",
      "metadata": {
        "id": "view-in-github",
        "colab_type": "text"
      },
      "source": [
        "<a href=\"https://colab.research.google.com/github/Zviko10/Techme/blob/main/Final_Submission_All_Codes.ipynb\" target=\"_parent\"><img src=\"https://colab.research.google.com/assets/colab-badge.svg\" alt=\"Open In Colab\"/></a>"
      ]
    },
    {
      "cell_type": "code",
      "execution_count": null,
      "metadata": {
        "id": "3SMnvgFccQkv"
      },
      "outputs": [],
      "source": [
        "#recursive approach\n",
        "def recursive_summation(n):\n",
        "  if n==0:\n",
        "    return 0\n",
        "\n",
        "  else:\n",
        "    return n+ recursive_summation(n-1)\n",
        "\n",
        "print(recursive_summation(958))"
      ]
    },
    {
      "cell_type": "code",
      "source": [
        "#requires more than 1 base case\n",
        "def fibR(n):\n",
        "  if n==0 or n==1:\n",
        "    return 1\n",
        "  else:\n",
        "    return fibR(n-1)+fibR(n-2)\n",
        "\n",
        "\n",
        "for i in range(8):\n",
        "  print(fibR(i), end=\" \")\n"
      ],
      "metadata": {
        "id": "fSTWpsaycWlo"
      },
      "execution_count": null,
      "outputs": []
    },
    {
      "cell_type": "code",
      "source": [
        "# Quick Sort\n",
        "def quicksort(alist):\n",
        "  if len(alist)<2:\n",
        "    return alist\n",
        "  else:\n",
        "    less,equal,more=[],[],[]\n",
        "    pivot=len(alist)//2\n",
        "    for item in alist:\n",
        "      if item<alist[pivot]:\n",
        "        less.append(item)\n",
        "      elif item==alist[pivot]:\n",
        "        equal.append(item)\n",
        "      else:\n",
        "        more.append(item)\n",
        "\n",
        "    return quicksort(less)+equal+quicksort(more)\n",
        "\n",
        "L=[1,4,8,9,10,11,3,6]\n",
        "quicksort(L)"
      ],
      "metadata": {
        "colab": {
          "base_uri": "https://localhost:8080/"
        },
        "id": "ST0sMz8ycfCX",
        "outputId": "be4b9e21-84cd-48e2-8c62-990b045c12ac"
      },
      "execution_count": 1,
      "outputs": [
        {
          "output_type": "execute_result",
          "data": {
            "text/plain": [
              "[1, 3, 4, 6, 8, 9, 10, 11]"
            ]
          },
          "metadata": {},
          "execution_count": 1
        }
      ]
    },
    {
      "cell_type": "code",
      "source": [
        "# Rock Paper scissors\n",
        "import random\n",
        "play=input(\"Do you wanty to play (y/n): \")\n",
        "print(play)\n",
        "while play==\"y\":\n",
        "\n",
        "  user_choice = input(\"Enter your choice (rock, paper, or scissors): \")\n",
        "  computer_choice = random.choice([\"rock\", \"paper\", \"scissors\"])\n",
        "\n",
        "  print(f\"You chose: {user_choice}\")\n",
        "  print(f\"Computer chose: {computer_choice}\")\n",
        "\n",
        "  if user_choice == computer_choice:\n",
        "      print(\"It's a tie!\")\n",
        "  elif (\n",
        "      (user_choice == \"rock\" and computer_choice == \"scissors\") or\n",
        "      (user_choice == \"paper\" and computer_choice == \"rock\") or\n",
        "      (user_choice == \"scissors\" and computer_choice == \"paper\")\n",
        "  ):\n",
        "      print(\"You win!\")\n",
        "  else:\n",
        "      print(\"Computer wins!\")\n",
        "  play=input(\"Do you want to play (y/n): \")\n",
        "\n",
        "print(\"Game over)\")"
      ],
      "metadata": {
        "id": "MvOi6NUhdHzE"
      },
      "execution_count": null,
      "outputs": []
    },
    {
      "cell_type": "code",
      "source": [
        "# Calculator\n",
        "while True:\n",
        "  integer_1=float(input(\"Enter value 1: \"))\n",
        "  integer_2=float(input(\"Enter value 2: \"))\n",
        "  operator=input(\"choose operator: \")\n",
        "\n",
        "  if operator==\"break\":\n",
        "    break\n",
        "  if operator==\"+\":\n",
        "    ans=integer_1+integer_2\n",
        "  elif operator==\"-\":\n",
        "    ans=integer_1-integer_2\n",
        "  elif operator==\"*\":\n",
        "    ans=integer_1*integer_2\n",
        "  elif operator==\"/\":\n",
        "    ans=integer_1/integer_2\n",
        "  elif operator==\"%\":\n",
        "    ans=integer_1%integer_2\n",
        "  elif operator==\"//\":\n",
        "    ans=integer_1//integer_2\n",
        "  elif operator==\"**\":\n",
        "    ans=integer_1**integer_2\n",
        "  else:\n",
        "    print(f\"Invalid Operator {operator}\")\n",
        "    continue\n",
        "  print(f\"Result = {ans}\")\n"
      ],
      "metadata": {
        "id": "hqa-s-UMdPJ5"
      },
      "execution_count": null,
      "outputs": []
    },
    {
      "cell_type": "code",
      "source": [
        "#Dictionary 2 variables\n",
        "months={}\n",
        "\n",
        "numbers=[1,2,3,4,5,6,7,8,9,10,11,12]\n",
        "names=[\"Jan\",\"Feb\",\"Mar\",\"Apr\",\"May\",\"Jun\",\"Jul\",\"Aug\",\"Sep\",\"Oct\",\"Nov\",\"Dec\"]\n",
        "x=0\n",
        "for date in numbers:\n",
        "  months[numbers[x]]=names[x]\n",
        "  x=x+1\n",
        "print(months)"
      ],
      "metadata": {
        "id": "ZQu38nzjdXPi"
      },
      "execution_count": null,
      "outputs": []
    },
    {
      "cell_type": "code",
      "source": [
        "#Leap year Calculator\n",
        "year = int(input(\"Enter a year: \"))\n",
        "\n",
        "if (year % 4 == 0 and year % 100 != 0) or (year % 400 == 0):\n",
        "    print(f\"{year} is a leap year!\")\n",
        "else:\n",
        "    print(f\"{year} is not a leap year.\")\n"
      ],
      "metadata": {
        "id": "imJ-5bzLdYXe"
      },
      "execution_count": null,
      "outputs": []
    },
    {
      "cell_type": "code",
      "source": [
        "# Populating list with while loop\n",
        "L=[]\n",
        "\n",
        "number=int(input(\"Enter an integer: \"))\n",
        "\n",
        "while number!=0:\n",
        "  L.append(number)\n",
        "  number=int(input(\"Enter an integer: \"))\n",
        "print(L)\n"
      ],
      "metadata": {
        "id": "8pdfZwILdoys"
      },
      "execution_count": null,
      "outputs": []
    },
    {
      "cell_type": "code",
      "source": [
        "# Class Point and Point3D\n",
        "class Point:\n",
        "  def __init__(self,x,y):\n",
        "    self.x=x\n",
        "    self.y=y\n",
        "\n",
        "  def distance(self,other):\n",
        "    x_diff= (self.x - other.x)**2\n",
        "    y_diff= (self.y - other.y)**2\n",
        "\n",
        "    d=(x_diff+y_diff)**0.5\n",
        "    return(f'p_1- ({self.x},{self.y})\\n p_2- ({other.x}, {other.y})\\n Distance= {d}')\n",
        "\n",
        "class Point_3D(Point):\n",
        "  def __init__(self,x,y,z):\n",
        "    super().__init__(x,y)\n",
        "    self.z=z\n",
        "\n",
        "  def distance(self,other):\n",
        "    x_diff= (self.x - other.x)**2\n",
        "    y_diff= (self.y - other.y)**2\n",
        "    z_diff= (self.z -other.z)**2\n",
        "    d=(x_diff+y_diff+z_diff)**0.5\n",
        "    return(f'p_1- ({self.x},{self.y},{self.z})\\n p_2- ({other.x}, {other.y},{other.z})\\n Distance= {d}')\n",
        "\n",
        "p1=Point(3,4)\n",
        "p2=Point(6,8)\n",
        "\n",
        "print(p1.distance(p2))\n",
        "\n",
        "p3=Point_3D(3,4,5)\n",
        "p4=Point_3D(6,7,8)\n",
        "\n",
        "print(p3.distance(p4))"
      ],
      "metadata": {
        "id": "Ix41d0Jod79W"
      },
      "execution_count": null,
      "outputs": []
    },
    {
      "cell_type": "code",
      "source": [
        "# Mortgage Interest class\n",
        "class Mortgage:\n",
        "  def __init__(self, amount, length, interest):\n",
        "    self.amount = amount\n",
        "    self.length = length\n",
        "    self.__interest = interest\n",
        "\n",
        "  def get_interest(self):\n",
        "    return self.__interest\n",
        "\n",
        "  def set_interest(self, newInterest):\n",
        "    if newInterest>=0:\n",
        "      self.__interest = newInterest\n",
        "    else:\n",
        "      print(\"Interest must be positive\")\n",
        "\n",
        "  def payment(self):\n",
        "    B = self.amount\n",
        "    n = self.length * 12\n",
        "    r = self.__interest / 100\n",
        "\n",
        "    return B * (r* (1+r) ** n) / ((1+r) ** n - 1)\n",
        "\n",
        "  def __str__(self):\n",
        "    return f\"Mortgage info \\n Initial amount: ${self.amount}\\n Length: {self.length} years\\n Interest Rate: {self.__interest}%\\n\"\n",
        "\n",
        "m = Mortgage(10000,30,6)\n",
        "\n",
        "m.set_interest(-5)\n",
        "m.get_interest()\n",
        "\n",
        "print(m)"
      ],
      "metadata": {
        "id": "nHyRyGRJkl3r"
      },
      "execution_count": null,
      "outputs": []
    },
    {
      "cell_type": "code",
      "source": [
        "#Deposit with interest\n",
        "name= input(\"Enter your name: \")\n",
        "customer_type=(input(\"Are you a new or existing customer?: \"))\n",
        "deposit=float(input(\"Enter deposit: \"))\n",
        "if customer_type== \"new\":\n",
        "  ir=0.03\n",
        "else:\n",
        " if deposit >10000:\n",
        "  ir=0.035\n",
        " elif deposit >1000:\n",
        "  ir=0.0325\n",
        " else:\n",
        "  ir=0.03\n",
        "Total=(1+ir)*deposit\n",
        "print(f\"Your interest rate is {ir}\"\"\\n\"f\"Your Total is $ {round(Total,2)}\")"
      ],
      "metadata": {
        "id": "A2clQntReZVp"
      },
      "execution_count": null,
      "outputs": []
    },
    {
      "cell_type": "code",
      "source": [
        "# Parking Garage\n",
        "for output in range(1,9):\n",
        "  base=5\n",
        "  hourly=2.5\n",
        "  fee= base+ output*hourly\n",
        "  if fee>20:\n",
        "    fee=20.0\n",
        "  elif fee<10:\n",
        "    fee=10.0\n",
        "  print(f\"{output} {fee}$\")"
      ],
      "metadata": {
        "id": "bn00YrKNexUQ"
      },
      "execution_count": null,
      "outputs": []
    },
    {
      "cell_type": "code",
      "source": [
        "# Movie Theater\n",
        "ticket=10\n",
        "forecast=20\n",
        "Fixed_Cost=200\n",
        "for adv in range(0,201,25):\n",
        "  Additional_attendees= 2*round(adv**0.5)\n",
        "  profit=(Additional_attendees+forecast)*ticket-Fixed_Cost-adv\n",
        "  print(f\"{adv} {profit}\")\n"
      ],
      "metadata": {
        "colab": {
          "base_uri": "https://localhost:8080/"
        },
        "id": "Y9VBWp2FjEW2",
        "outputId": "2e749e49-f2b9-4c87-cdc4-494607e55c0f"
      },
      "execution_count": 4,
      "outputs": [
        {
          "output_type": "stream",
          "name": "stdout",
          "text": [
            "0 0\n",
            "25 75\n",
            "50 90\n",
            "75 105\n",
            "100 100\n",
            "125 95\n",
            "150 90\n",
            "175 85\n",
            "200 80\n"
          ]
        }
      ]
    },
    {
      "cell_type": "code",
      "source": [
        "#Date Format\n",
        "Date=input(\"Enter Date format MMDDYYYY: \")\n",
        "month=Date[:2]\n",
        "Day=Date[2:4]\n",
        "Year=Date[-2:]\n",
        "\n",
        "print(f\"Date is {month}/{Day}/{Year}\")"
      ],
      "metadata": {
        "id": "jbmN8pPfe_eK"
      },
      "execution_count": null,
      "outputs": []
    },
    {
      "cell_type": "code",
      "source": [
        "#Fun Soccer Penalty Shootout Game\n",
        "import random\n",
        "Play=input(\"Do you want to play y/n: \")\n",
        "Attempts=0\n",
        "Score=0\n",
        "c1=\"Andy:\"\n",
        "c2=\"Martin:\"\n",
        "while Play==\"y\":\n",
        "  GK_Direction=random.choice([\"Top Left\",\"Bottom Left\",\"Center\",\"Top Right\",\"Bottom Right\"])\n",
        "  Striker_placement=input(\"Choose where to shoot Top Left,Bottom Left,Center,Top Right,Bottom Right or Panenka: \")\n",
        "\n",
        "  if GK_Direction==Striker_placement:\n",
        "    print(f\"{c1} Goal keeper has saved the penalty!\\n{c2} He just shot {Striker_placement} and the keeper guessed correctly\")\n",
        "    Score=Score\n",
        "    Attempts=Attempts+1\n",
        "    print(f\"{Score}/{Attempts}\")\n",
        "  elif GK_Direction==\"Center\" and Striker_placement==\"Panenka\":\n",
        "    print(f\"{c2} He has embarrassed himself on the world stage!\\n{c1} Oh what a shame he tried the {Striker_placement} and it did not work\")\n",
        "    Score=Score\n",
        "    Attempts=Attempts+1\n",
        "    print(f\"{Score}/{Attempts}\")\n",
        "  else:\n",
        "    Score=Score+1\n",
        "    Attempts=Attempts+1\n",
        "    if Striker_placement==\"Panenka\":\n",
        "      print(f\"{c1}Oh my goodness, that is an amazing goal!!!\\n{c2} Bamboozled the keeper with the {Striker_placement}\")\n",
        "    else:\n",
        "      print(f\"{c1}He has scored the penalty!\\n{c2} He's smashed it {Striker_placement}\")\n",
        "  print(f\"{Score}/{Attempts}\")\n",
        "  if Score==5 and Attempts==5:\n",
        "    print(f\"{c2} Ohhh they've won the penalty shootout\\n{c1} Scoring all of their penalties, what an amazing Finale\")\n",
        "    break\n",
        "  Play=input(\"Do you want to play y/n: \")\n"
      ],
      "metadata": {
        "id": "YNKYIw14gFYG"
      },
      "execution_count": null,
      "outputs": []
    }
  ]
}