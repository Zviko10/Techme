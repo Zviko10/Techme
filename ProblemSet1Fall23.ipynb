{
  "nbformat": 4,
  "nbformat_minor": 0,
  "metadata": {
    "colab": {
      "provenance": [],
      "include_colab_link": true
    },
    "kernelspec": {
      "name": "python3",
      "display_name": "Python 3"
    },
    "language_info": {
      "name": "python"
    }
  },
  "cells": [
    {
      "cell_type": "markdown",
      "metadata": {
        "id": "view-in-github",
        "colab_type": "text"
      },
      "source": [
        "<a href=\"https://colab.research.google.com/github/Zviko10/Techme/blob/main/ProblemSet1Fall23.ipynb\" target=\"_parent\"><img src=\"https://colab.research.google.com/assets/colab-badge.svg\" alt=\"Open In Colab\"/></a>"
      ]
    },
    {
      "cell_type": "markdown",
      "source": [
        "# Problem Set 2"
      ],
      "metadata": {
        "id": "mqKVIuY-mxNU"
      }
    },
    {
      "cell_type": "markdown",
      "source": [
        "## Assignment 1: Quality Control (7 points)\n",
        "\n",
        "A quality control manager would like to find the average weight of a list of weights. Prior experience indicates that the first two measures are atypical, and the practice is to exclude these from the average calculation.\n",
        "\n",
        "Write a program that calculates the average of a list of numbers that given as inputs from the user, excluding the first two values.\n",
        "\n",
        "For your program, you must define and use the following functions:\n",
        "- `getValues(n)`: Prompt the user for `n` values, returns the list\n",
        "- `calcAverage(alist)`: Calculates the average from the list"
      ],
      "metadata": {
        "id": "-RSYW1jVm08n"
      }
    },
    {
      "cell_type": "code",
      "source": [],
      "metadata": {
        "id": "PP1iGWvGuSHW"
      },
      "execution_count": null,
      "outputs": []
    },
    {
      "cell_type": "code",
      "execution_count": null,
      "metadata": {
        "id": "AqbgJkgNmvQw",
        "colab": {
          "base_uri": "https://localhost:8080/"
        },
        "outputId": "1ba3605f-8b78-4843-cea2-3e26cb6d8907"
      },
      "outputs": [
        {
          "output_type": "stream",
          "name": "stdout",
          "text": [
            "enter number of weights: 5\n",
            "enter weight of item: 10\n",
            "enter weight of item: 10\n",
            "enter weight of item: 15\n",
            "enter weight of item: 10\n",
            "enter weight of item: 10\n",
            "11.666666666666666\n"
          ]
        }
      ],
      "source": [
        "\n",
        "def getValues(n):\n",
        "  values=[]\n",
        "  if n<=2:\n",
        "    print(\"Not enough values\")\n",
        "\n",
        "  else:\n",
        "    for i in range(n):\n",
        "      weight=float(input(\"enter weight of item: \"))\n",
        "      values.append(weight)\n",
        "\n",
        "    values.pop(0)\n",
        "    values.pop(0)\n",
        "    return values\n",
        "\n",
        "def calcAverage(alist):\n",
        "  print(sum(alist)/len(alist))\n",
        "\n",
        "n_weights=int(input(\"enter number of weights: \"))\n",
        "L=getValues(n_weights)\n",
        "\n",
        "calcAverage(L)"
      ]
    },
    {
      "cell_type": "code",
      "source": [],
      "metadata": {
        "id": "yKptktYyScrX"
      },
      "execution_count": null,
      "outputs": []
    },
    {
      "cell_type": "markdown",
      "source": [
        "## Assignment 2: Country Statistics Lookup-Multiple Measures (6 points)\n",
        "\n",
        "Assume a program begins with the statement:\n",
        "\n",
        "```python\n",
        "allData = { # dictionary of values for countries\n",
        "    'US': {'pop':325.7, 'gdp': 19.39, 'ccy': 'USD', 'fx':  1.0},\n",
        "    'CA': {'pop': 36.5, 'gdp':  1.65, 'ccy': 'CAD', 'fx':  1.35},\n",
        "    'MX': {'pop':129.2, 'gdp':  1.15, 'ccy': 'MXN', 'fx': 19.68}\n",
        "    }\n",
        "```\n",
        "\n",
        "Write subsequent statements that (in a loop) prompt the user for a country code (`US`, `CA`, or `MX`), then prompt for a measure name (`pop`, `gdp`, `ccy`, or `fx`), then look up in the above dictionary for the corresponding value, and display it.\n",
        "\n",
        "Example run:\n",
        "```\n",
        "Please enter a country code: CA\n",
        "Please enter a statistic: pop\n",
        "CA pop = 36.5\n",
        "```\n",
        "\n",
        "Your program should handle the cases where a user-entered country code or measure name is not found."
      ],
      "metadata": {
        "id": "QFO0Kzx8ncnv"
      }
    },
    {
      "cell_type": "code",
      "source": [
        "\n",
        "allData = { # dictionary of values for countries\n",
        "    'US': {'pop':325.7, 'gdp': 19.39, 'ccy': 'USD', 'fx':  1.0},\n",
        "    'CA': {'pop': 36.5, 'gdp':  1.65, 'ccy': 'CAD', 'fx':  1.35},\n",
        "    'MX': {'pop':129.2, 'gdp':  1.15, 'ccy': 'MXN', 'fx': 19.68}\n",
        "    }\n",
        "checkdata=input('Do you want to review a countries info(y/n): ')\n",
        "while True:\n",
        "  if checkdata=='n':\n",
        "    break\n",
        "  else:\n",
        "    country=input(\"Choose a country (US, CA or MX): \")\n",
        "    if country not in allData.keys():\n",
        "      print(\"Enter valid country code (US, CA or MX)\")\n",
        "      continue\n",
        "    else:\n",
        "      stat=input(\"Choose a statistic (pop, gdp, ccy or fx): \")\n",
        "      if stat not in allData[f'{country}'].keys():\n",
        "        print(\"Enter valid measure\")\n",
        "        continue\n",
        "      else:\n",
        "        print(f\"{country} {stat} = {allData[f'{country}'][f'{stat}']}\")\n",
        "        checkdata=input('Do you want to review a countries info(y/n): ')\n",
        "\n",
        "\n"
      ],
      "metadata": {
        "id": "NZFjRINKowEW",
        "colab": {
          "base_uri": "https://localhost:8080/"
        },
        "outputId": "c35b3d4f-4d80-41bf-915a-455ab5ffe6db"
      },
      "execution_count": null,
      "outputs": [
        {
          "name": "stdout",
          "output_type": "stream",
          "text": [
            "Do you want to review a countries info(y/n): y\n",
            "Choose a country (US, CA or MX): USA\n",
            "Enter valid country code (US, CA or MX)\n",
            "Choose a country (US, CA or MX): US\n",
            "Choose a statistic (pop, gdp, ccy or fx): fx\n",
            "US fx = 1.0\n",
            "Do you want to review a countries info(y/n): n\n"
          ]
        }
      ]
    },
    {
      "cell_type": "markdown",
      "source": [
        "## Assignment 3: Parking Garage (6 points)\n",
        "\n",
        "Write a program to compute the fee for parking in a garage for a number of hours.\n",
        "\n",
        "The program should:\n",
        "- Prompt the user for how many hours parked\n",
        "- Calculate the fee based on the following rules:\n",
        "  - $2.50/hour\n",
        "\n",
        "  - minimum fee is $6.00\n",
        "\n",
        "  - maximum fee is $20.00\n",
        "- Print the result\n",
        "\n",
        "For your program, define and use the following two functions:\n",
        "```python\n",
        "# use input() to prompt for the # of hours parked, return this value\n",
        "def getParkingHours()\n",
        "\n",
        "# takes as input hours (a number), returns the parking fee\n",
        "def calcParkingFee()\n",
        "```"
      ],
      "metadata": {
        "id": "GjaUFrnfpKFf"
      }
    },
    {
      "cell_type": "code",
      "source": [
        "def getParkingHours():\n",
        "  hours=int(input(\"How many hours parked: \"))\n",
        "  return hours\n",
        "\n",
        "def calcParkingFee(h):\n",
        "  rate=2.5\n",
        "  minimum=6.00\n",
        "  maximum=20.00\n",
        "  if h<3:\n",
        "    print(f\"Parking fee is ${minimum}\")\n",
        "  elif h>8:\n",
        "    print(f\"Parking Fee is ${maximum}\")\n",
        "  else:\n",
        "    fee= rate*h\n",
        "    print(f\"Parking Fee is ${fee}\")\n",
        "\n",
        "L= getParkingHours()\n",
        "calcParkingFee(L)"
      ],
      "metadata": {
        "id": "5ha4O3V5pwNN",
        "colab": {
          "base_uri": "https://localhost:8080/"
        },
        "outputId": "05178044-72f9-4473-c7f5-87a3005d8f2f"
      },
      "execution_count": null,
      "outputs": [
        {
          "output_type": "stream",
          "name": "stdout",
          "text": [
            "How many hours parked: 4\n",
            "Parking Fee is $10.0\n"
          ]
        }
      ]
    },
    {
      "cell_type": "markdown",
      "source": [
        "## Assignment 4: Tuition (6 points)\n",
        "\n",
        "A college charges tuition according to the following:\n",
        "- 12 or more credits: $20,000/semester\n",
        "\n",
        "- 1-11 credits: $1,200 + $1,700 per credit\n",
        "\n",
        "Write a program that prompts the user for a number of credits and determines and displays the tuition for the semester. As part of your program, define and use the following function:\n",
        "```python\n",
        "def calcTuition(credits)\n",
        "```\n",
        "The function returns the tuition for a given number of credits"
      ],
      "metadata": {
        "id": "gipBObe5qm-2"
      }
    },
    {
      "cell_type": "code",
      "source": [
        "def calcTuition(credits):\n",
        "  if credits >=12:\n",
        "    tuition=20000\n",
        "    print(f\"Tuition is ${tuition}\")\n",
        "  else:\n",
        "    tuition= 1200+1700*credits\n",
        "    print(f\"Tuition is ${tuition}\")\n",
        "\n",
        "credits=int(input(\"Enter number of credits: \"))\n",
        "calcTuition(credits)"
      ],
      "metadata": {
        "id": "BPcn9ywzrL8y"
      },
      "execution_count": null,
      "outputs": []
    },
    {
      "cell_type": "code",
      "source": [
        "def calcCost(count,price,discount=0.1):\n",
        "  if count<5:\n",
        "    total=count*price\n",
        "  else:\n",
        "    total=count*(1-discount)*price\n",
        "  return total\n",
        "\n",
        "number=int(input(\"Enter number of items: \"))\n",
        "price=float(input(\"Enter price: \"))\n",
        "\n",
        "calcCost(number,price)\n",
        "print(calcCost(number,price))"
      ],
      "metadata": {
        "colab": {
          "base_uri": "https://localhost:8080/"
        },
        "id": "uCF5ul2F_CHf",
        "outputId": "52fb48f1-cb29-48db-b2bd-7fedcf9f9e30"
      },
      "execution_count": 4,
      "outputs": [
        {
          "output_type": "stream",
          "name": "stdout",
          "text": [
            "Enter number of items: 5\n",
            "Enter price: 30\n",
            "135.0\n"
          ]
        }
      ]
    },
    {
      "cell_type": "code",
      "source": [
        "import math\n",
        "def calcSpend(Adv,fc,tick):\n",
        "\n",
        "  base_attendance=20\n",
        "  additional_attendance=2*round(Adv**0.5)\n",
        "\n",
        "  total_Attendance=base_attendance+additional_attendance\n",
        "  print(total_Attendance*tick-fc-adv)\n",
        "\n",
        "adv=float(input(\"Enter spending: \"))\n",
        "fc=float(input(\"Enter Fixed Cost: \"))\n",
        "tick=float(input(\"Enter Ticket price: \"))\n",
        "calcSpend(adv, fc, tick)"
      ],
      "metadata": {
        "colab": {
          "base_uri": "https://localhost:8080/"
        },
        "id": "jx-b-OihBLE-",
        "outputId": "e7ef94d0-4a27-45d9-f8f2-90a43e022a50"
      },
      "execution_count": 10,
      "outputs": [
        {
          "output_type": "stream",
          "name": "stdout",
          "text": [
            "Enter spending: 4000\n",
            "Enter Fixed Cost: 200\n",
            "Enter Ticket price: 10\n",
            "-2740.0\n"
          ]
        }
      ]
    }
  ]
}