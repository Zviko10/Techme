{
  "nbformat": 4,
  "nbformat_minor": 0,
  "metadata": {
    "colab": {
      "provenance": [],
      "authorship_tag": "ABX9TyOUz7cDR9I2xW0nkubKIvjL",
      "include_colab_link": true
    },
    "kernelspec": {
      "name": "python3",
      "display_name": "Python 3"
    },
    "language_info": {
      "name": "python"
    }
  },
  "cells": [
    {
      "cell_type": "markdown",
      "metadata": {
        "id": "view-in-github",
        "colab_type": "text"
      },
      "source": [
        "<a href=\"https://colab.research.google.com/github/Zviko10/Techme/blob/main/Projects_2.ipynb\" target=\"_parent\"><img src=\"https://colab.research.google.com/assets/colab-badge.svg\" alt=\"Open In Colab\"/></a>"
      ]
    },
    {
      "cell_type": "code",
      "execution_count": null,
      "metadata": {
        "colab": {
          "base_uri": "https://localhost:8080/"
        },
        "id": "2yQP9IEUy4Mg",
        "outputId": "500243fc-1f87-42b5-fe98-6b46142e1e9b"
      },
      "outputs": [
        {
          "output_type": "stream",
          "name": "stdout",
          "text": [
            "15\n"
          ]
        }
      ],
      "source": [
        "\n",
        "def summation(n):\n",
        "  sum=0\n",
        "  while n>=0:\n",
        "    sum=sum+n\n",
        "    n=n-1\n",
        "  print(sum)\n",
        "\n",
        "summation(5)"
      ]
    },
    {
      "cell_type": "code",
      "source": [
        "#recursive approach\n",
        "def recursive_summation(n):\n",
        "  if n==0:\n",
        "    return 0\n",
        "\n",
        "  else:\n",
        "    return n+ recursive_summation(n-1)\n",
        "\n",
        "print(recursive_summation(958))\n"
      ],
      "metadata": {
        "colab": {
          "base_uri": "https://localhost:8080/"
        },
        "id": "GBYVAeVN2od7",
        "outputId": "3dc91da7-b6f4-460f-b194-91ed638a3b90"
      },
      "execution_count": null,
      "outputs": [
        {
          "output_type": "stream",
          "name": "stdout",
          "text": [
            "459361\n"
          ]
        }
      ]
    },
    {
      "cell_type": "code",
      "source": [
        "#requires more than 1 base case\n",
        "def fibR(n):\n",
        "  if n==0 or n==1:\n",
        "    return 1\n",
        "  else:\n",
        "    return fibR(n-1)+fibR(n-2)\n",
        "\n",
        "\n",
        "for i in range(8):\n",
        "  print(fibR(i), end=\" \")\n"
      ],
      "metadata": {
        "colab": {
          "base_uri": "https://localhost:8080/"
        },
        "id": "xJhmWtf_AKzt",
        "outputId": "788683ff-c55f-4d08-d4d3-77a30a0fe9b2"
      },
      "execution_count": null,
      "outputs": [
        {
          "output_type": "stream",
          "name": "stdout",
          "text": [
            "1 1 2 3 5 8 13 21 "
          ]
        }
      ]
    },
    {
      "cell_type": "code",
      "source": [
        "def fact(n):\n",
        "\n",
        "  if n==1 or n==0:\n",
        "    return 1\n",
        "  else:\n",
        "    return n*fact(n-1)\n",
        "\n",
        "print(fact(5))"
      ],
      "metadata": {
        "colab": {
          "base_uri": "https://localhost:8080/"
        },
        "id": "vOXZZX2uEHfM",
        "outputId": "6ef9f01c-4292-49c5-a382-b37ec180de6f"
      },
      "execution_count": null,
      "outputs": [
        {
          "output_type": "stream",
          "name": "stdout",
          "text": [
            "120\n"
          ]
        }
      ]
    },
    {
      "cell_type": "code",
      "source": [
        "def reversal(H):\n",
        "  if len(H)<=1:\n",
        "    return H\n",
        "  else:\n",
        "\n",
        "    return H[-1]+reversal(H[:-1])\n",
        "\n",
        "string=input(\"enter string: \")\n",
        "print(reversal(string))"
      ],
      "metadata": {
        "colab": {
          "base_uri": "https://localhost:8080/"
        },
        "id": "5ggib8qDHtSi",
        "outputId": "69ca19b3-fefd-40ca-812d-bb2d2c070273"
      },
      "execution_count": null,
      "outputs": [
        {
          "output_type": "stream",
          "name": "stdout",
          "text": [
            "enter string: tre\n",
            "ert\n"
          ]
        }
      ]
    },
    {
      "cell_type": "code",
      "source": [
        "def quicksort(alist):\n",
        "  if len(alist)<2:\n",
        "    return alist\n",
        "  else:\n",
        "    less,equal,more=[],[],[]\n",
        "    pivot=len(alist)//2\n",
        "    for item in alist:\n",
        "      if item<alist[pivot]:\n",
        "        less.append(item)\n",
        "      elif item==alist[pivot]:\n",
        "        equal.append(item)\n",
        "      else:\n",
        "        more.append(item)\n",
        "\n",
        "    return quicksort(less)+equal+quicksort(more)\n",
        "\n",
        "L=[1,4,8,9,10,11,3,6]\n",
        "quicksort(L)"
      ],
      "metadata": {
        "id": "uNX9KMmZU6r2",
        "colab": {
          "base_uri": "https://localhost:8080/"
        },
        "outputId": "d771bc6c-a7d5-4e4f-8559-d4d63b5cad6f"
      },
      "execution_count": null,
      "outputs": [
        {
          "output_type": "execute_result",
          "data": {
            "text/plain": [
              "[1, 3, 4, 6, 8, 9, 10, 11]"
            ]
          },
          "metadata": {},
          "execution_count": 7
        }
      ]
    },
    {
      "cell_type": "code",
      "source": [
        "try:\n",
        "  a,b=float(input('enter numerator: ')),float(input('enter denominator: '))\n",
        "  print(a/b)\n",
        "  print(\"division is complete.\")\n",
        "except ZeroDivisionError:\n",
        "  print(\"Dividing by zero is not allowed\")\n",
        "except ValueError:\n",
        "  print(\"Value error\")\n",
        "except:\n",
        "  print(\"Unknown error\")\n",
        "print('program ends.')"
      ],
      "metadata": {
        "colab": {
          "base_uri": "https://localhost:8080/"
        },
        "id": "wHg1zyIjzla2",
        "outputId": "1d3c56e6-4ae0-439e-8445-04d1f487fc27"
      },
      "execution_count": null,
      "outputs": [
        {
          "output_type": "stream",
          "name": "stdout",
          "text": [
            "enter numerator: 9\n",
            "enter denominator: abc\n",
            "Value error\n",
            "program ends.\n"
          ]
        }
      ]
    },
    {
      "cell_type": "code",
      "source": [
        "\n",
        "l=[1,2,3,4,5]\n",
        "try:\n",
        "  idx=int(input(\"Enter index: \"))\n",
        "  print(l[idx])\n",
        "except IndexError:\n",
        "  print(\"Index must be in range\")\n",
        "except TypeError:\n",
        "  print(\"Type error\")\n",
        "except ValueError:\n",
        "  print(\"Index must be int\")\n",
        "else:\n",
        "  print(\"Item found\")"
      ],
      "metadata": {
        "colab": {
          "base_uri": "https://localhost:8080/"
        },
        "id": "Yae7yY-b6IjP",
        "outputId": "9fbaba08-260b-435e-87d4-ff0a85748b51"
      },
      "execution_count": 33,
      "outputs": [
        {
          "output_type": "stream",
          "name": "stdout",
          "text": [
            "Enter index: 3\n",
            "4\n",
            "Item found\n"
          ]
        }
      ]
    },
    {
      "cell_type": "code",
      "source": [
        "def avg(alist):\n",
        "  try:\n",
        "    print(sum(alist)/len(alist))\n",
        "  except ZeroDivisionError:\n",
        "    print(\"List is empty\")\n",
        "    return []\n",
        "  except TypeError:\n",
        "    print(\"List must only contain int or float type\")\n",
        "\n",
        "  else:\n",
        "    print(\"Average calculated\")\n",
        "  finally:\n",
        "    print(\"This is always displayed\")\n",
        "\n",
        "avg([1,\"two\",3,4])\n"
      ],
      "metadata": {
        "colab": {
          "base_uri": "https://localhost:8080/"
        },
        "id": "0EVvnfrLFDOX",
        "outputId": "3b3ef77a-b4ea-42dd-d66d-0ec676a39da5"
      },
      "execution_count": 37,
      "outputs": [
        {
          "output_type": "stream",
          "name": "stdout",
          "text": [
            "List must only contain int or float type\n",
            "This is always displayed\n"
          ]
        }
      ]
    }
  ]
}