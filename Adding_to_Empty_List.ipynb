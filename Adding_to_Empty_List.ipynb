{
  "nbformat": 4,
  "nbformat_minor": 0,
  "metadata": {
    "colab": {
      "provenance": [],
      "authorship_tag": "ABX9TyNrCAtF+cN3OOPA4Fm4HCo/",
      "include_colab_link": true
    },
    "kernelspec": {
      "name": "python3",
      "display_name": "Python 3"
    },
    "language_info": {
      "name": "python"
    }
  },
  "cells": [
    {
      "cell_type": "markdown",
      "metadata": {
        "id": "view-in-github",
        "colab_type": "text"
      },
      "source": [
        "<a href=\"https://colab.research.google.com/github/Zviko10/Techme/blob/main/Adding_to_Empty_List.ipynb\" target=\"_parent\"><img src=\"https://colab.research.google.com/assets/colab-badge.svg\" alt=\"Open In Colab\"/></a>"
      ]
    },
    {
      "cell_type": "code",
      "execution_count": null,
      "metadata": {
        "id": "c2ygupT8Fwam"
      },
      "outputs": [],
      "source": [
        "L=[]\n",
        "\n",
        "number=int(input(\"Enter an integer: \"))\n",
        "\n",
        "while number!=0:\n",
        "  L.append(number)\n",
        "  number=int(input(\"Enter an integer: \"))\n",
        "print(L)\n",
        ""
      ]
    }
  ]
}