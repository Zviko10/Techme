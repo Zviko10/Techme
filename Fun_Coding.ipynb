{
  "nbformat": 4,
  "nbformat_minor": 0,
  "metadata": {
    "colab": {
      "provenance": [],
      "authorship_tag": "ABX9TyOB0h4ebXrsaSTOmGEKTbIh",
      "include_colab_link": true
    },
    "kernelspec": {
      "name": "python3",
      "display_name": "Python 3"
    },
    "language_info": {
      "name": "python"
    }
  },
  "cells": [
    {
      "cell_type": "markdown",
      "metadata": {
        "id": "view-in-github",
        "colab_type": "text"
      },
      "source": [
        "<a href=\"https://colab.research.google.com/github/Zviko10/Techme/blob/main/Fun_Coding.ipynb\" target=\"_parent\"><img src=\"https://colab.research.google.com/assets/colab-badge.svg\" alt=\"Open In Colab\"/></a>"
      ]
    },
    {
      "cell_type": "code",
      "execution_count": null,
      "metadata": {
        "colab": {
          "base_uri": "https://localhost:8080/"
        },
        "id": "_PWdThQLzvi-",
        "outputId": "b6d3f248-4a1f-4bae-f9f3-49e38dd44d79"
      },
      "outputs": [
        {
          "output_type": "stream",
          "name": "stdout",
          "text": [
            "Price per bird/kg: 3.5\n",
            "How many birds: 30\n",
            "Customer last name: Vee\n",
            "Enter the date: 11/22/2001\n",
            "Vee, Kombo's Chickens is pleased to do business with you. Please let us know if you have any questions. Your Total is: $105.0. We look forward to meeting your needs soon.\n"
          ]
        }
      ],
      "source": [
        "#Kombo's chickens Invoice creater\n",
        "price=float(input(\"Price per bird/kg: \"))\n",
        "quantity=int(input(\"How many birds: \"))\n",
        "Customer_Name=input(\"Customer last name: \")\n",
        "Date=input(\"Enter the date: \")\n",
        "total=price*quantity\n",
        "welcome=\"Kombo's Chickens is pleased to do business with you. Please let us know if you have any questions\"\n",
        "exit=(f\"{Customer_Name}, {welcome}. Your Total is: ${total}. We look forward to meeting your needs soon.\")\n",
        "\n",
        "print(exit)"
      ]
    },
    {
      "cell_type": "code",
      "source": [
        "#Grade Calculator\n",
        "print(\"If you have less than six assignments, enter 0 for any extra grade or weights\")\n",
        "a_1=float(input(\"Enter grade 1: \"))\n",
        "w_1=int(input(\"Enter weight of Assignment 1: \"))\n",
        "a_2=float(input(\"Enter grade 2: \"))\n",
        "w_2=int(input(\"Enter weight of Assignment 2: \"))\n",
        "a_3=float(input(\"Enter grade 3: \"))\n",
        "w_3=int(input(\"Enter weight of Assignment 3: \"))\n",
        "a_4=float(input(\"Enter grade 4: \"))\n",
        "w_4=int(input(\"Enter weight of Assignment 4: \"))\n",
        "a_5=float(input(\"Enter grade 5: \"))\n",
        "w_5=int(input(\"Enter weight of Assignment 5: \"))\n",
        "a_6=float(input(\"Enter grade 6: \"))\n",
        "w_6=int(input(\"Enter weight of Assignment 6: \"))\n",
        "\n",
        "Total_weight=w_1+w_2+w_3+w_4+w_5+w_6\n",
        "Grade=(a_1*w_1+a_2*w_2+a_3*w_3+a_4*w_4+a_5*w_5+a_6*w_6)/100\n",
        "\n",
        "if Grade>96.5:\n",
        "  print(\"Congratulations, You earned an A+\")\n",
        "elif Grade>92.5 and Grade<=96.5:\n",
        "  print(\"Congratulations, You earned an A\")\n",
        "elif Grade>89.5 and Grade<=92.5:\n",
        "  print(\"Good work,You earned an A-\")\n",
        "elif Grade>86.5 and Grade<=89.5:\n",
        "  print(\"Well tried, You earned a B+\")\n",
        "elif Grade>82.5 and Grade<=86.5:\n",
        "  print(\"You earned an B\")\n",
        "elif Grade>80 and Grade<=82.5:\n",
        "  print(\"Better luck next time, You earned an B\")\n",
        "else:\n",
        "  print(\"Grade is lower than a B\")\n",
        "\n",
        "print(Grade)"
      ],
      "metadata": {
        "id": "0l1wbHJ6toE7"
      },
      "execution_count": null,
      "outputs": []
    },
    {
      "cell_type": "code",
      "source": [
        "# Anual Savings Calculator\n",
        "Income=float(input(\"What is your total income for the year: \"))\n",
        "State=input(\"What state do you live in: \")\n",
        "if State==\"Florida\":\n",
        "  tax=0.28\n",
        "  Inc_afterTax=Income*(1-tax)\n",
        "  print(Inc_afterTax)\n",
        "\n",
        "Food=500*12\n",
        "Transport=12*300\n",
        "Rent=2700*12/2\n",
        "Bills=350*12\n",
        "_401K=Income*0.06\n",
        "\n",
        "Total_Expenses=Food+Transport+Rent+Bills+_401K\n",
        "Residual=Inc_afterTax-Total_Expenses\n",
        "\n",
        "print(Food,\"\\n\",Transport,\"\\n\", Rent,\"\\n\", Bills,\"\\n\", _401K)\n",
        "print(Residual)\n"
      ],
      "metadata": {
        "colab": {
          "base_uri": "https://localhost:8080/"
        },
        "id": "x84MQD_u94oe",
        "outputId": "faf775e6-0e19-4bcd-813f-f72cd900a3cd"
      },
      "execution_count": null,
      "outputs": [
        {
          "output_type": "stream",
          "name": "stdout",
          "text": [
            "What is your total income for the year: 75000\n",
            "What state do you live in: Florida\n",
            "54000.0\n",
            "6000 \n",
            " 3600 \n",
            " 16200.0 \n",
            " 4200 \n",
            " 4500.0\n",
            "19500.0\n"
          ]
        }
      ]
    },
    {
      "cell_type": "code",
      "source": [
        "#SLicing strings\n",
        "x=\"At Deloitte, our purpose is to make an impact that matters. It leads us to focus on accelerating equity, sustainability and shared prosperity through all that we do: because that's the type of impact that matters to us, and for our clients, our people, and our communities.\"\n",
        "y=x[:58]+x[-108:]\n",
        "z=2*x[:58]\n",
        "print(z)\n",
        "print(y)"
      ],
      "metadata": {
        "colab": {
          "base_uri": "https://localhost:8080/"
        },
        "id": "hCQdCtosKHIC",
        "outputId": "f2b7b6e0-e482-4369-ad16-5f6612950d49"
      },
      "execution_count": null,
      "outputs": [
        {
          "output_type": "stream",
          "name": "stdout",
          "text": [
            "At Deloitte, our purpose is to make an impact that mattersAt Deloitte, our purpose is to make an impact that matters\n",
            "At Deloitte, our purpose is to make an impact that matters because that's the type of impact that matters to us, and for our clients, our people, and our communities.\n"
          ]
        }
      ]
    },
    {
      "cell_type": "code",
      "source": [
        "#Fun Soccer Penalty Shootout Game\n",
        "import random\n",
        "Play=input(\"Do you want to play y/n: \")\n",
        "Attempts=0\n",
        "Score=0\n",
        "c1=\"Andy:\"\n",
        "c2=\"Martin:\"\n",
        "while Play==\"y\":\n",
        "  GK_Direction=random.choice([\"Top Left\",\"Bottom Left\",\"Center\",\"Top Right\",\"Bottom Right\"])\n",
        "  Striker_placement=input(\"Choose where to shoot Top Left,Bottom Left,Center,Top Right,Bottom Right or Panenka: \")\n",
        "\n",
        "  if GK_Direction==Striker_placement:\n",
        "    print(f\"{c1} Goal keeper has saved the penalty!\", f\"{c2} He just shot {Striker_placement} and the keeper guessed correctly\")\n",
        "    Score=Score\n",
        "    Attempts=Attempts+1\n",
        "    print(f\"{Score}/{Attempts}\")\n",
        "  elif GK_Direction==\"Center\" and Striker_placement==\"Panenka\":\n",
        "    print(f\"{c2} He has embarrassed himself on the world stage!\",f\"{c1} Oh what a shame he tried the {Striker_placement} and it did not work\")\n",
        "    Score=Score\n",
        "    Attempts=Attempts+1\n",
        "    print(f\"{Score}/{Attempts}\")\n",
        "  else:\n",
        "    Score=Score+1\n",
        "    Attempts=Attempts+1\n",
        "    if Striker_placement==\"Panenka\":\n",
        "      print(f\"{c1}Oh my goodness, that is an amazing goal!!!\",f\"{c2} Bamboozled the keeper with the {Striker_placement}\")\n",
        "    else:\n",
        "      print(f\"{c1}He has scored the penalty!\",f\"{c2} He's smashed it {Striker_placement}\")\n",
        "  print(f\"{Score}/{Attempts}\")\n",
        "  if Score==5 and Attempts==5:\n",
        "    print(f\"{c2} Ohhh they've won the penalty shootout\",f\"{c1} Scoring all of their penalties, what an amazing Finale\")\n",
        "    break\n",
        "  Play=input(\"Do you want to play y/n: \")\n"
      ],
      "metadata": {
        "colab": {
          "base_uri": "https://localhost:8080/"
        },
        "id": "Hg0lwFBmM7wk",
        "outputId": "74beadd1-9673-449d-febe-11167704c40c"
      },
      "execution_count": null,
      "outputs": [
        {
          "output_type": "stream",
          "name": "stdout",
          "text": [
            "Do you want to play y/n: y\n",
            "Choose where to shoot Top Left,Bottom Left,Center,Top Right,Bottom Right or Panenka: Bottom Left\n",
            "Andy:He has scored the penalty! Martin: He's smashed it Bottom Left\n",
            "1/1\n",
            "Do you want to play y/n: y\n",
            "Choose where to shoot Top Left,Bottom Left,Center,Top Right,Bottom Right or Panenka: Panenka\n",
            "Andy:Oh my goodness, that is an amazing goal!!! Martin: Bamboozled the keeper with the Panenka\n",
            "2/2\n",
            "Do you want to play y/n: y\n",
            "Choose where to shoot Top Left,Bottom Left,Center,Top Right,Bottom Right or Panenka: Top Right\n",
            "Andy:He has scored the penalty! Martin: He's smashed it Top Right\n",
            "3/3\n",
            "Do you want to play y/n: y\n",
            "Choose where to shoot Top Left,Bottom Left,Center,Top Right,Bottom Right or Panenka: Center\n",
            "Andy:He has scored the penalty! Martin: He's smashed it Center\n",
            "4/4\n",
            "Do you want to play y/n: y\n",
            "Choose where to shoot Top Left,Bottom Left,Center,Top Right,Bottom Right or Panenka: Top Left\n",
            "Andy:He has scored the penalty! Martin: He's smashed it Top Left\n",
            "5/5\n",
            "Martin: Ohhh they've won the penalty shootout Andy: Scoring all of their penalties, what an amazing climax\n"
          ]
        }
      ]
    },
    {
      "cell_type": "code",
      "source": [],
      "metadata": {
        "id": "qQagYv_AU7U5"
      },
      "execution_count": null,
      "outputs": []
    }
  ]
}