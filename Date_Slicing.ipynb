{
  "nbformat": 4,
  "nbformat_minor": 0,
  "metadata": {
    "colab": {
      "provenance": [],
      "authorship_tag": "ABX9TyP5B+/LHFkP9bdQi7W7Xn12",
      "include_colab_link": true
    },
    "kernelspec": {
      "name": "python3",
      "display_name": "Python 3"
    },
    "language_info": {
      "name": "python"
    }
  },
  "cells": [
    {
      "cell_type": "markdown",
      "metadata": {
        "id": "view-in-github",
        "colab_type": "text"
      },
      "source": [
        "<a href=\"https://colab.research.google.com/github/Zviko10/Techme/blob/main/Date_Slicing.ipynb\" target=\"_parent\"><img src=\"https://colab.research.google.com/assets/colab-badge.svg\" alt=\"Open In Colab\"/></a>"
      ]
    },
    {
      "cell_type": "code",
      "execution_count": null,
      "metadata": {
        "id": "9Xrci7UGCGAr"
      },
      "outputs": [],
      "source": [
        "Date=input(\"Enter Date format MMDDYYYY: \")\n",
        "month=Date[:2]\n",
        "Day=Date[2:4]\n",
        "Year=Date[-2:]\n",
        "\n",
        "print(f\"Date is {month}/{Day}/{Year}\")"
      ]
    }
  ]
}