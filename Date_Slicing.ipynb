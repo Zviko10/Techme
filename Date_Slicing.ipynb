{
  "nbformat": 4,
  "nbformat_minor": 0,
  "metadata": {
    "colab": {
      "provenance": [],
      "authorship_tag": "ABX9TyN1aJFd+saORkNd3NLivC0t",
      "include_colab_link": true
    },
    "kernelspec": {
      "name": "python3",
      "display_name": "Python 3"
    },
    "language_info": {
      "name": "python"
    }
  },
  "cells": [
    {
      "cell_type": "markdown",
      "metadata": {
        "id": "view-in-github",
        "colab_type": "text"
      },
      "source": [
        "<a href=\"https://colab.research.google.com/github/Zviko10/Techme/blob/main/Date_Slicing.ipynb\" target=\"_parent\"><img src=\"https://colab.research.google.com/assets/colab-badge.svg\" alt=\"Open In Colab\"/></a>"
      ]
    },
    {
      "cell_type": "code",
      "execution_count": 2,
      "metadata": {
        "colab": {
          "base_uri": "https://localhost:8080/"
        },
        "id": "9Xrci7UGCGAr",
        "outputId": "6e8daea9-9bb7-4ed5-e37d-f050cb2bca4b"
      },
      "outputs": [
        {
          "output_type": "stream",
          "name": "stdout",
          "text": [
            "Enter Date format MM/DD/YYYY: 11/22/2024\n",
            "Date is 11/22/2024\n"
          ]
        }
      ],
      "source": [
        "Date=input(\"Enter Date format MM/DD/YYYY: \")\n",
        "Month=Date[:2]\n",
        "Day=Date[3:5]\n",
        "Year=Date[-4:]\n",
        "\n",
        "print(f\"Date is {Month}/{Day}/{Year}\")"
      ]
    }
  ]
}