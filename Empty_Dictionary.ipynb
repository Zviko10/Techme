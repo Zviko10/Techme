{
  "nbformat": 4,
  "nbformat_minor": 0,
  "metadata": {
    "colab": {
      "provenance": [],
      "authorship_tag": "ABX9TyNsuAqZcCMnHCRzkOE6oWYE",
      "include_colab_link": true
    },
    "kernelspec": {
      "name": "python3",
      "display_name": "Python 3"
    },
    "language_info": {
      "name": "python"
    }
  },
  "cells": [
    {
      "cell_type": "markdown",
      "metadata": {
        "id": "view-in-github",
        "colab_type": "text"
      },
      "source": [
        "<a href=\"https://colab.research.google.com/github/Zviko10/Techme/blob/main/Empty_Dictionary.ipynb\" target=\"_parent\"><img src=\"https://colab.research.google.com/assets/colab-badge.svg\" alt=\"Open In Colab\"/></a>"
      ]
    },
    {
      "cell_type": "code",
      "execution_count": null,
      "metadata": {
        "id": "emFhKym33zkQ"
      },
      "outputs": [],
      "source": [
        "months={}\n",
        "\n",
        "numbers=[1,2,3,4,5,6,7,8,9,10,11,12]\n",
        "names=[\"Jan\",\"Feb\",\"Mar\",\"Apr\",\"May\",\"Jun\",\"Jul\",\"Aug\",\"Sep\",\"Oct\",\"Nov\",\"Dec\"]\n",
        "x=0\n",
        "for date in numbers:\n",
        "  months[numbers[x]]=names[x]\n",
        "  x=x+1\n",
        "print(months)"
      ]
    }
  ]
}