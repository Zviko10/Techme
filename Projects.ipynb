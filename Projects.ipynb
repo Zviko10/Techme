{
  "nbformat": 4,
  "nbformat_minor": 0,
  "metadata": {
    "colab": {
      "provenance": [],
      "authorship_tag": "ABX9TyP91rvQ3V42ErYpa9phPG+n",
      "include_colab_link": true
    },
    "kernelspec": {
      "name": "python3",
      "display_name": "Python 3"
    },
    "language_info": {
      "name": "python"
    }
  },
  "cells": [
    {
      "cell_type": "markdown",
      "metadata": {
        "id": "view-in-github",
        "colab_type": "text"
      },
      "source": [
        "<a href=\"https://colab.research.google.com/github/Zviko10/Techme/blob/main/Projects.ipynb\" target=\"_parent\"><img src=\"https://colab.research.google.com/assets/colab-badge.svg\" alt=\"Open In Colab\"/></a>"
      ]
    },
    {
      "cell_type": "code",
      "execution_count": null,
      "metadata": {
        "colab": {
          "base_uri": "https://localhost:8080/"
        },
        "id": "hmneADZHxbK_",
        "outputId": "4d83d30a-1657-4abb-faac-23127405ea27"
      },
      "outputs": [
        {
          "output_type": "stream",
          "name": "stdout",
          "text": [
            "This was fun\n"
          ]
        }
      ],
      "source": [
        "x=\"This was fun\"\n",
        "print(x)"
      ]
    },
    {
      "cell_type": "code",
      "source": [],
      "metadata": {
        "id": "LlODwakde51-"
      },
      "execution_count": null,
      "outputs": []
    },
    {
      "cell_type": "code",
      "source": [
        "pi=3\n",
        "radius=5\n",
        "Area=pi*radius**2\n",
        "print(Area)\n",
        "print(Area*2)\n",
        "\n",
        "\n"
      ],
      "metadata": {
        "colab": {
          "base_uri": "https://localhost:8080/"
        },
        "id": "auaobeCkhP-j",
        "outputId": "13e5205b-fe73-444e-f8d4-d02e659c4cd4"
      },
      "execution_count": null,
      "outputs": [
        {
          "output_type": "stream",
          "name": "stdout",
          "text": [
            "75\n",
            "150\n"
          ]
        }
      ]
    },
    {
      "cell_type": "code",
      "source": [
        "print('Goodnight and goodluck', end=\"\\n\"\"\\n\"\"\\n\")\n",
        "print(\"love you\")\n"
      ],
      "metadata": {
        "colab": {
          "base_uri": "https://localhost:8080/"
        },
        "id": "kql2bXlSyayI",
        "outputId": "da336931-7140-4a9f-d76c-82de8210f4a7"
      },
      "execution_count": null,
      "outputs": [
        {
          "output_type": "stream",
          "name": "stdout",
          "text": [
            "Goodnight and goodluck\n",
            "\n",
            "\n",
            "love you\n"
          ]
        }
      ]
    },
    {
      "cell_type": "code",
      "source": [
        "number = int(input(\"Enter your number: \"))\n",
        "print('Hi', number)\n",
        "type(number)"
      ],
      "metadata": {
        "colab": {
          "base_uri": "https://localhost:8080/"
        },
        "id": "IqGGlPhIEHyL",
        "outputId": "7422b21b-9da4-44cc-eaf5-61ac2cb37268"
      },
      "execution_count": null,
      "outputs": [
        {
          "output_type": "stream",
          "name": "stdout",
          "text": [
            "Enter your number: 7868069313\n",
            "Hi 7868069313\n"
          ]
        },
        {
          "output_type": "execute_result",
          "data": {
            "text/plain": [
              "int"
            ]
          },
          "metadata": {},
          "execution_count": 5
        }
      ]
    },
    {
      "cell_type": "code",
      "source": [
        "x=float(input(\"Please write a number: \"))\n",
        "if x >0:\n",
        "  print(f\"{x} Number is positive\")\n",
        "elif x < 0:\n",
        "  print(f'{x} is negative')\n",
        "else:\n",
        "    print(f\"{x} is Zero\")\n",
        "\n",
        "\n"
      ],
      "metadata": {
        "colab": {
          "base_uri": "https://localhost:8080/"
        },
        "id": "Mv8UrGdqHdJS",
        "outputId": "e0ef2782-7025-42eb-fc16-a2e3e6280890"
      },
      "execution_count": null,
      "outputs": [
        {
          "output_type": "stream",
          "name": "stdout",
          "text": [
            "Please write a number: 0\n",
            "0.0 is Zero\n"
          ]
        }
      ]
    },
    {
      "cell_type": "code",
      "source": [
        "x= int(input(\"User enter a number: \"))\n",
        "if x%2==0:\n",
        "  print(\"Even\")"
      ],
      "metadata": {
        "colab": {
          "base_uri": "https://localhost:8080/"
        },
        "id": "i01unPoDe6_E",
        "outputId": "c8caa5d3-27d2-4b1b-bc21-9664336084a2"
      },
      "execution_count": 2,
      "outputs": [
        {
          "output_type": "stream",
          "name": "stdout",
          "text": [
            "User enter a number: 4\n",
            "Even\n"
          ]
        }
      ]
    },
    {
      "cell_type": "code",
      "source": [
        "deposit=float(input(\"user enter deposit\"))\n",
        "Total=float(interest * deposit)\n",
        "if deposit > 10000:\n",
        "  interest= 0.035\n",
        "  print(f\"Interest rate {interest}\")\n",
        "  Total=float((1+interest) * deposit)\n",
        "  print(f\"Your total is {Total}\")\n"
      ],
      "metadata": {
        "colab": {
          "base_uri": "https://localhost:8080/"
        },
        "id": "YVIUha-Tfwtr",
        "outputId": "4743773f-f95c-4ece-964e-2deb3563066b"
      },
      "execution_count": 7,
      "outputs": [
        {
          "output_type": "stream",
          "name": "stdout",
          "text": [
            "user enter deposit200000\n",
            "Interest rate 0.035\n",
            "Your total is 206999.99999999997\n"
          ]
        }
      ]
    },
    {
      "cell_type": "code",
      "source": [
        "deposit=float(input(\"user enter deposit\"))\n",
        "\n",
        "if deposit >10000:\n",
        "  ir=0.035\n",
        "elif deposit >1000:\n",
        "  ir=0.0325\n",
        "else:\n",
        "  ir=0.03\n",
        "Total=(1+ir)*deposit\n",
        "print(f\"Your interest rate is {ir}\"\"\\n\"f\"Your Total is $ {round(Total,2)}\")"
      ],
      "metadata": {
        "colab": {
          "base_uri": "https://localhost:8080/"
        },
        "id": "aKHWXJ1CimEn",
        "outputId": "c35f9bb2-56f5-4c46-87a0-9cf5fd7d0a81"
      },
      "execution_count": 11,
      "outputs": [
        {
          "output_type": "stream",
          "name": "stdout",
          "text": [
            "user enter deposit120000\n",
            "Your interest rate is 0.035\n",
            "Your Total is $ 124200.0\n"
          ]
        }
      ]
    },
    {
      "cell_type": "code",
      "source": [
        "customer_type=(input(\"Are you a new or existing customer?: \"))\n",
        "deposit=float(input(\"user enter deposit\"))\n",
        "if customer_type== \"new\":\n",
        "  ir=0.03\n",
        "else:\n",
        " if deposit >10000:\n",
        "  ir=0.035\n",
        " elif deposit >1000:\n",
        "  ir=0.0325\n",
        " else:\n",
        "  ir=0.03\n",
        "Total=(1+ir)*deposit\n",
        "print(f\"Your interest rate is {ir}\"\"\\n\"f\"Your Total is $ {round(Total,2)}\")"
      ],
      "metadata": {
        "colab": {
          "base_uri": "https://localhost:8080/"
        },
        "id": "MegMYpqpmP5q",
        "outputId": "f4cbc661-c389-4cfa-95d2-d5b3df5ea0cb"
      },
      "execution_count": 19,
      "outputs": [
        {
          "output_type": "stream",
          "name": "stdout",
          "text": [
            "Are you a new or existing customer?: y\n",
            "user enter deposit20000\n",
            "Your interest rate is 0.035\n",
            "Your Total is $ 20700.0\n"
          ]
        }
      ]
    },
    {
      "cell_type": "code",
      "source": [
        "!pip install ColabTurtlePlus"
      ],
      "metadata": {
        "colab": {
          "base_uri": "https://localhost:8080/"
        },
        "id": "AqU3Utxphu8R",
        "outputId": "99b27b2b-83c3-400e-94c3-3500563292dc"
      },
      "execution_count": 1,
      "outputs": [
        {
          "output_type": "stream",
          "name": "stdout",
          "text": [
            "Collecting ColabTurtlePlus\n",
            "  Downloading ColabTurtlePlus-2.0.1-py3-none-any.whl (31 kB)\n",
            "Installing collected packages: ColabTurtlePlus\n",
            "Successfully installed ColabTurtlePlus-2.0.1\n"
          ]
        }
      ]
    },
    {
      "cell_type": "code",
      "source": [],
      "metadata": {
        "id": "M-AuXkGgj983"
      },
      "execution_count": null,
      "outputs": []
    },
    {
      "cell_type": "code",
      "source": [
        "for i in range(10,5,-1):\n",
        "  print(i)"
      ],
      "metadata": {
        "colab": {
          "base_uri": "https://localhost:8080/"
        },
        "id": "DpIGVog0np-5",
        "outputId": "6c5ca264-1ceb-4697-f841-b03e1e8b69df"
      },
      "execution_count": 11,
      "outputs": [
        {
          "output_type": "stream",
          "name": "stdout",
          "text": [
            "10\n",
            "9\n",
            "8\n",
            "7\n",
            "6\n"
          ]
        }
      ]
    },
    {
      "cell_type": "code",
      "source": [
        "from ColabTurtlePlus.Turtle import *\n",
        "\n",
        "clearscreen()\n",
        "\n",
        "color('black', 'green')\n",
        "begin_fill()\n",
        "jumpto(0,0)\n",
        "\n",
        "for var in range(4):\n",
        "  forward(100)\n",
        "  left(90)\n",
        "\n",
        "end_fill()"
      ],
      "metadata": {
        "colab": {
          "base_uri": "https://localhost:8080/",
          "height": 621
        },
        "id": "MlaJbCQ2iXGo",
        "outputId": "957dc004-e362-4bc1-b261-9e13aa21d321"
      },
      "execution_count": 12,
      "outputs": [
        {
          "output_type": "display_data",
          "data": {
            "text/plain": [
              "<IPython.core.display.HTML object>"
            ],
            "text/html": [
              "\n",
              "      <svg width=\"800\" height=\"600\">  \n",
              "        <rect width=\"100%\" height=\"100%\" style=\"fill:white;stroke:;stroke-width:1\"/>\n",
              "        \n",
              "        \n",
              "        <path fill-rule=\"evenodd\" fill-opacity=\"1\" d=\"M 400.0 300.0  L 400.0 300.0  L 500.0 300.0  L 500.0 200.0  L 400.0 200.0  L 400.0 300.0 \" stroke-linecap=\"round\" style=\"stroke:black;stroke-width:1\" fill=\"green\" />\n",
              "        \n",
              "        \n",
              "        <g id=\"classic\" visibility=\"visible\" transform=\"rotate(-90,400.0,300.0) translate(400.0, 300.0)\">\n",
              "<polygon points=\"-5,-4.5 0,-2.5 5,-4.5 0,4.5\" transform=\"skewX(0) scale(1,1)\" style=\"stroke:black;fill:green;stroke-width:1\" />\n",
              "</g>\n",
              "      </svg>\n",
              "    "
            ]
          },
          "metadata": {}
        }
      ]
    },
    {
      "cell_type": "code",
      "source": [
        "age=int(input(\"Hello, how old are you?: \"))\n",
        "if age>=21:\n",
        "  print(\"Welcome, what would you like to drink\")\n",
        "else:\n",
        "  print(\"Unfortunately we can not serve you\")"
      ],
      "metadata": {
        "colab": {
          "base_uri": "https://localhost:8080/"
        },
        "id": "AlzcCIlzrLLX",
        "outputId": "7ea6c4c5-f3b6-41af-8aa6-90e0a6540bb5"
      },
      "execution_count": 12,
      "outputs": [
        {
          "output_type": "stream",
          "name": "stdout",
          "text": [
            "Hello, how old are you?: 23\n",
            "Welcome, what would you like to drink\n"
          ]
        }
      ]
    },
    {
      "cell_type": "code",
      "source": [
        "for output in range(1,9):\n",
        "  base=5\n",
        "  hourly=2.5\n",
        "  fee= base+ output*hourly\n",
        "  print(f\"{output} {fee}$\")"
      ],
      "metadata": {
        "id": "axWmCM4_1aeA"
      },
      "execution_count": null,
      "outputs": []
    },
    {
      "cell_type": "code",
      "source": [
        "for output in range(1,9):\n",
        "  base=5\n",
        "  hourly=2.5\n",
        "  fee= base+ output*hourly\n",
        "  if fee>20:\n",
        "    fee=20.0\n",
        "  elif fee<10:\n",
        "    fee=10.0\n",
        "  print(f\"{output} {fee}$\")"
      ],
      "metadata": {
        "colab": {
          "base_uri": "https://localhost:8080/"
        },
        "id": "X2a0PMLRtPYh",
        "outputId": "b61e9582-6604-4242-a3a3-a8cd59a96837"
      },
      "execution_count": 16,
      "outputs": [
        {
          "output_type": "stream",
          "name": "stdout",
          "text": [
            "1 10.0$\n",
            "2 10.0$\n",
            "3 12.5$\n",
            "4 15.0$\n",
            "5 17.5$\n",
            "6 20.0$\n",
            "7 20.0$\n",
            "8 20.0$\n"
          ]
        }
      ]
    },
    {
      "cell_type": "code",
      "source": [],
      "metadata": {
        "id": "EMLB2DbV7X9r"
      },
      "execution_count": null,
      "outputs": []
    },
    {
      "cell_type": "code",
      "source": [
        "ticket=10\n",
        "forecast=20\n",
        "Fixed_Cost=200\n",
        "for adv in range(0,201,25):\n",
        "  Additional_attendees= 2*round(adv**0.5)\n",
        "  profit=(Additional_attendees+forecast)*ticket-Fixed_Cost-adv\n",
        "  print(f\"{adv} {profit}\")\n"
      ],
      "metadata": {
        "colab": {
          "base_uri": "https://localhost:8080/"
        },
        "id": "tFaLPcMG75Tr",
        "outputId": "f7510d6e-46fb-4705-8d54-fdc672825473"
      },
      "execution_count": 18,
      "outputs": [
        {
          "output_type": "stream",
          "name": "stdout",
          "text": [
            "0 0\n",
            "25 75\n",
            "50 90\n",
            "75 105\n",
            "100 100\n",
            "125 95\n",
            "150 90\n",
            "175 85\n",
            "200 80\n"
          ]
        }
      ]
    },
    {
      "cell_type": "code",
      "source": [
        "import random\n",
        "user_input=input(\"Enter your choice rock, paper or scissors: \")\n",
        "computer_choice= random.choice([\"rock\", \"paper\", \"scissors\"])\n",
        "print(f\"You chose {user_input} and computer chose {computer_choice}\")\n",
        "if user_input==computer_choice:\n",
        "  print(\"Its a tie\")\n",
        "elif (\n",
        "    (user_input==\"rock\" and computer_choice==\"scissors\") or\n",
        "    (user_input==\"paper\" and computer_choice==\"rock\") or\n",
        "    (user_input==\"scissors\" and computer_choice==\"paper\")\n",
        "    ):\n",
        "  print(\"You win!\")\n",
        "else:\n",
        "  print(\"You lose\")"
      ],
      "metadata": {
        "colab": {
          "base_uri": "https://localhost:8080/"
        },
        "id": "prhDQ4Lg7ZEk",
        "outputId": "cbe0b39b-452d-4441-90f9-637080c1063d"
      },
      "execution_count": 14,
      "outputs": [
        {
          "output_type": "stream",
          "name": "stdout",
          "text": [
            "Enter your choice rock, paper or scissors: rock\n",
            "You chose rock and computer chose scissors\n",
            "You win!\n"
          ]
        }
      ]
    },
    {
      "cell_type": "code",
      "source": [
        "import random\n",
        "play=input(\"Do you wanty to play (y/n): \")\n",
        "print(play)\n",
        "while play==\"y\":\n",
        "\n",
        "  user_choice = input(\"Enter your choice (rock, paper, or scissors): \")\n",
        "  computer_choice = random.choice([\"rock\", \"paper\", \"scissors\"])\n",
        "\n",
        "  print(f\"You chose: {user_choice}\")\n",
        "  print(f\"Computer chose: {computer_choice}\")\n",
        "\n",
        "  if user_choice == computer_choice:\n",
        "      print(\"It's a tie!\")\n",
        "  elif (\n",
        "      (user_choice == \"rock\" and computer_choice == \"scissors\") or\n",
        "      (user_choice == \"paper\" and computer_choice == \"rock\") or\n",
        "      (user_choice == \"scissors\" and computer_choice == \"paper\")\n",
        "  ):\n",
        "      print(\"You win!\")\n",
        "  else:\n",
        "      print(\"Computer wins!\")\n",
        "  play=input(\"Do you want to play (y/n): \")\n",
        "\n",
        "print(\"Game over)\")"
      ],
      "metadata": {
        "colab": {
          "base_uri": "https://localhost:8080/"
        },
        "id": "obmQ4pxTGNfN",
        "outputId": "5668d520-ea5b-48c6-f78f-ee5f55ff1547"
      },
      "execution_count": 25,
      "outputs": [
        {
          "output_type": "stream",
          "name": "stdout",
          "text": [
            "Do you wanty to play (y/n): y\n",
            "y\n",
            "Enter your choice (rock, paper, or scissors): scissors\n",
            "You chose: scissors\n",
            "Computer chose: scissors\n",
            "It's a tie!\n",
            "Do you want to play (y/n): y\n",
            "Enter your choice (rock, paper, or scissors): scissors\n",
            "You chose: scissors\n",
            "Computer chose: rock\n",
            "Computer wins!\n",
            "Do you want to play (y/n): n\n",
            "Game over)\n"
          ]
        }
      ]
    },
    {
      "cell_type": "code",
      "source": [
        "x=1\n",
        "n=5\n",
        "while x<5:\n",
        "  print(x)\n",
        "  x=x+1"
      ],
      "metadata": {
        "colab": {
          "base_uri": "https://localhost:8080/"
        },
        "id": "X-Ta6B7gInSY",
        "outputId": "1e186bfc-fac0-463b-9ff7-a947df7b6912"
      },
      "execution_count": 15,
      "outputs": [
        {
          "output_type": "stream",
          "name": "stdout",
          "text": [
            "1\n",
            "2\n",
            "3\n",
            "4\n"
          ]
        }
      ]
    },
    {
      "cell_type": "code",
      "source": [
        "down= 100000\n",
        "deposit=10000\n",
        "amount=5000\n",
        "months=0\n",
        "while deposit<down:\n",
        "  deposit=deposit+amount\n",
        "  months=months+1\n",
        "  print(f\"{months} {deposit}\")"
      ],
      "metadata": {
        "colab": {
          "base_uri": "https://localhost:8080/"
        },
        "id": "bRF9GMLYQL5w",
        "outputId": "c301cc5e-1ee0-4db9-ca59-2fd05a57e28c"
      },
      "execution_count": 26,
      "outputs": [
        {
          "output_type": "stream",
          "name": "stdout",
          "text": [
            "1 15000\n",
            "2 20000\n",
            "3 25000\n",
            "4 30000\n",
            "5 35000\n",
            "6 40000\n",
            "7 45000\n",
            "8 50000\n",
            "9 55000\n",
            "10 60000\n",
            "11 65000\n",
            "12 70000\n",
            "13 75000\n",
            "14 80000\n",
            "15 85000\n",
            "16 90000\n",
            "17 95000\n",
            "18 100000\n"
          ]
        }
      ]
    }
  ]
}